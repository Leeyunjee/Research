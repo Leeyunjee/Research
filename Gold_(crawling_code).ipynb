{
  "cells": [
    {
      "cell_type": "code",
      "execution_count": null,
      "metadata": {
        "id": "LKTm_R1DCiLy"
      },
      "outputs": [],
      "source": [
        "import requests\n",
        "from bs4 import BeautifulSoup\n",
        "import pandas as pd"
      ]
    },
    {
      "cell_type": "markdown",
      "source": [
        "**Gold/USD**"
      ],
      "metadata": {
        "id": "0TM4k8SIPH8S"
      }
    },
    {
      "cell_type": "code",
      "source": [
        "url = \"https://www.exchangerates.org.uk/commodities/XAU-USD-history.html\"\n",
        "response = requests.get(url)\n",
        "\n",
        "soup = BeautifulSoup(response.content, 'html.parser')\n",
        "\n",
        "prices = []\n",
        "dates = []\n",
        "rows = soup.find_all(\"tr\")[2:]\n",
        "\n",
        "for row in rows:\n",
        "  date = row.find_all(\"td\")[0].text.strip()\n",
        "  dates.append(date)\n",
        "\n",
        "for row in rows:\n",
        "  price = row.find_all(\"td\")[2].text.strip()\n",
        "  prices.append(price)\n",
        "\n",
        "df = pd.DataFrame({'Date': dates, 'gold': prices})\n",
        "df"
      ],
      "metadata": {
        "id": "OeZG0kTHSXiZ"
      },
      "execution_count": null,
      "outputs": []
    },
    {
      "cell_type": "code",
      "source": [
        "from datetime import datetime\n",
        "\n",
        "def format_date(date_str):\n",
        "    date_b = datetime.strptime(date_str, '%A %d %B %Y')\n",
        "\n",
        "    date_n = date_b.strftime('%Y-%m-%d')\n",
        "    return date_n\n",
        "\n",
        "df[\"Date\"] = df[\"Date\"].apply(format_date)\n",
        "df.sort_values(by='Date', ascending=True, inplace=True)\n",
        "df[\"gold\"] = pd.to_numeric(df[\"gold\"])\n",
        "\n",
        "df = df[ (df['Date'] >= '2014-01-01') & (df['Date'] <= '2022-12-31') ].reset_index(drop=True)"
      ],
      "metadata": {
        "id": "qZpu_VlmO48F"
      },
      "execution_count": null,
      "outputs": []
    },
    {
      "cell_type": "code",
      "source": [
        "df.to_csv(\"US_gold.csv\")"
      ],
      "metadata": {
        "id": "jOKZJdXVO4-8"
      },
      "execution_count": null,
      "outputs": []
    },
    {
      "cell_type": "markdown",
      "source": [
        "**Gold/GBP**"
      ],
      "metadata": {
        "id": "eb9xnhP3PKFU"
      }
    },
    {
      "cell_type": "code",
      "source": [
        "url = \"https://www.exchangerates.org.uk/commodities/XAU-GBP-history.html\"\n",
        "response = requests.get(url)\n",
        "\n",
        "soup = BeautifulSoup(response.content, 'html.parser')\n",
        "\n",
        "prices = []\n",
        "dates = []\n",
        "rows = soup.find_all(\"tr\")[2:]\n",
        "\n",
        "for row in rows:\n",
        "  date = row.find_all(\"td\")[0].text.strip()\n",
        "  dates.append(date)\n",
        "\n",
        "for row in rows:\n",
        "  price = row.find_all(\"td\")[2].text.strip()\n",
        "  prices.append(price)\n",
        "\n",
        "df = pd.DataFrame({'Date': dates, 'gold': prices})\n",
        "df"
      ],
      "metadata": {
        "id": "zvB9Kja4qoEm"
      },
      "execution_count": null,
      "outputs": []
    },
    {
      "cell_type": "code",
      "source": [
        "from datetime import datetime\n",
        "\n",
        "def format_date(date_str):\n",
        "    date_b = datetime.strptime(date_str, '%A %d %B %Y')\n",
        "\n",
        "    date_n = date_b.strftime('%Y-%m-%d')\n",
        "    return date_n\n",
        "\n",
        "df[\"Date\"] = df[\"Date\"].apply(format_date)\n",
        "df.sort_values(by='Date', ascending=True, inplace=True)\n",
        "df[\"gold\"] = pd.to_numeric(df[\"gold\"])\n",
        "\n",
        "df = df[ (df['Date'] >= '2014-01-01') & (df['Date'] <= '2022-12-31') ].reset_index(drop=True)"
      ],
      "metadata": {
        "id": "ddkUneGls2DY"
      },
      "execution_count": null,
      "outputs": []
    },
    {
      "cell_type": "code",
      "source": [
        "df.to_csv(\"UK_gold.csv\")"
      ],
      "metadata": {
        "id": "yNTbFafV2Sqj"
      },
      "execution_count": null,
      "outputs": []
    }
  ],
  "metadata": {
    "colab": {
      "provenance": [],
      "machine_shape": "hm"
    },
    "kernelspec": {
      "display_name": "Python 3",
      "name": "python3"
    },
    "language_info": {
      "name": "python"
    },
    "accelerator": "TPU"
  },
  "nbformat": 4,
  "nbformat_minor": 0
}